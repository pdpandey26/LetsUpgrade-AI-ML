{
 "cells": [
  {
   "cell_type": "markdown",
   "metadata": {},
   "source": [
    "Q1-Write a program to subtract two complex numbers in Python."
   ]
  },
  {
   "cell_type": "code",
   "execution_count": null,
   "metadata": {},
   "outputs": [],
   "source": [
    "a=complex(input(\"Enter first complex number \"))\n",
    "b=complex(input(\"Enter second complex number \"))\n",
    "print(\"The subtracted complex number is \"+str(a-b))"
   ]
  },
  {
   "cell_type": "markdown",
   "metadata": {},
   "source": [
    "Q2-Write a program to find the fourth root of a number"
   ]
  },
  {
   "cell_type": "code",
   "execution_count": null,
   "metadata": {},
   "outputs": [],
   "source": [
    "a=float(input())\n",
    "print(a**(1/4))"
   ]
  },
  {
   "cell_type": "markdown",
   "metadata": {},
   "source": [
    "Q3-Write a program to swap two numbers in Python with the help of a temporary variable."
   ]
  },
  {
   "cell_type": "code",
   "execution_count": null,
   "metadata": {},
   "outputs": [],
   "source": [
    "x=input(\"Enter the first number \")\n",
    "y=input(\"Enter the second number \")\n",
    "t=x\n",
    "x=y\n",
    "y=t\n",
    "print(\"first number after swapping \"+str(x))\n",
    "print(\"first number after swapping \"+str(y))"
   ]
  },
  {
   "cell_type": "markdown",
   "metadata": {},
   "source": [
    "Q4-Write a program to swap two numbers in Python without using a temporary variable."
   ]
  },
  {
   "cell_type": "code",
   "execution_count": null,
   "metadata": {},
   "outputs": [],
   "source": [
    "a=int(input(\"Enter the first number \"))\n",
    "b=int(input(\"Enter the second number \"))\n",
    "a=a+b\n",
    "b=a-b\n",
    "a=a-b\n",
    "print(\"first number after swapping \"+str(a))\n",
    "print(\"first number after swapping \"+str(b))"
   ]
  },
  {
   "cell_type": "markdown",
   "metadata": {},
   "source": [
    "Q5-Write a program to convert Fahrenheit to kelvin and celsius both."
   ]
  },
  {
   "cell_type": "code",
   "execution_count": null,
   "metadata": {},
   "outputs": [],
   "source": [
    "f=float(input(\"Enter the temperature in Fahrenheit \"))\n",
    "K=273.5+((f-32.0)*(5.0/9.0))\n",
    "C=(f-32)*5/9\n",
    "print(\"temperature in Kelvin \"+str(K))\n",
    "print(\"temperature in Celsius \"+str(C))"
   ]
  },
  {
   "cell_type": "markdown",
   "metadata": {},
   "source": [
    "Q6-Write a program to demonstrate all the available data types in Python. Hint: Use type() function."
   ]
  },
  {
   "cell_type": "code",
   "execution_count": null,
   "metadata": {},
   "outputs": [],
   "source": [
    "print(type(3)) #numeric\n",
    "print(type(3.0)) #float\n",
    "print(type(1+2j))#complex number\n",
    "print(type(\"prateek\")) #string\n",
    "print(type((1,2))) #tuple\n",
    "print(type([1,2]))#list\n",
    "print(type(True)) #boolean\n",
    "print(type({1,2})) #set\n",
    "print(type({1:2}))#dict"
   ]
  },
  {
   "cell_type": "markdown",
   "metadata": {},
   "source": [
    "Q7-Create a Markdown cell in Jupyter and list the steps discussed in the session by Dr. Darshan\n",
    "Ingle sir to create a Github profile and upload the Githubs Assignment link."
   ]
  },
  {
   "cell_type": "markdown",
   "metadata": {},
   "source": [
    "Create a Github profile and uploading the Githubs Assignment links:\n",
    "\n",
    "1.Create a Github public repo and name it LetsUpgrade AI/ML\n",
    "\n",
    "2.Upload the files/solution in the repo in a day-wise manner.  \n",
    "\n",
    "3.Copy the URL of the Folder of that day and paste in the Assignment Submission Form (Google Form)\n",
    "\n",
    "4.Make sure you are filling correct details in the Assignment Submission Form."
   ]
  },
  {
   "cell_type": "code",
   "execution_count": null,
   "metadata": {},
   "outputs": [],
   "source": []
  }
 ],
 "metadata": {
  "kernelspec": {
   "display_name": "Python 3",
   "language": "python",
   "name": "python3"
  },
  "language_info": {
   "codemirror_mode": {
    "name": "ipython",
    "version": 3
   },
   "file_extension": ".py",
   "mimetype": "text/x-python",
   "name": "python",
   "nbconvert_exporter": "python",
   "pygments_lexer": "ipython3",
   "version": "3.7.1"
  }
 },
 "nbformat": 4,
 "nbformat_minor": 2
}
