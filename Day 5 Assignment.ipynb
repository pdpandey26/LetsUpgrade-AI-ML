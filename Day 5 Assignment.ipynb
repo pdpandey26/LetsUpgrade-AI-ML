{
 "cells": [
  {
   "cell_type": "markdown",
   "metadata": {},
   "source": [
    "Q1-Write a Python program to find the first 20 non-even prime natural numbers."
   ]
  },
  {
   "cell_type": "code",
   "execution_count": 1,
   "metadata": {},
   "outputs": [
    {
     "name": "stdout",
     "output_type": "stream",
     "text": [
      "3 5 7 11 13 17 19 23 29 31 37 41 43 47 53 59 61 67 71 73 "
     ]
    }
   ],
   "source": [
    "s=0\n",
    "i=2\n",
    "while s<20:\n",
    "    c=0\n",
    "    for j in range(1,i+1):\n",
    "        if i%2!=0:\n",
    "            if  i%j==0:\n",
    "                c+=1\n",
    "    if c==2:\n",
    "        print(i,end=' ')\n",
    "        s+=1\n",
    "        i+=1\n",
    "    else:\n",
    "        i+=1"
   ]
  },
  {
   "cell_type": "markdown",
   "metadata": {},
   "source": [
    "Q2-Write a Python program to implement 15 functions of string."
   ]
  },
  {
   "cell_type": "code",
   "execution_count": 2,
   "metadata": {},
   "outputs": [
    {
     "name": "stdout",
     "output_type": "stream",
     "text": [
      "Enter the string Pr\n",
      "pr\n",
      "PR\n",
      "['Pr']\n",
      "Pr\n",
      "Pr\n",
      "True\n",
      "False\n",
      "True\n",
      "True\n",
      "False\n",
      "False\n",
      "False\n",
      "1\n",
      "0\n",
      "0\n",
      "True\n",
      "False\n",
      "True\n",
      "False\n",
      "True\n",
      "False\n",
      "False\n",
      "1\n",
      "1\n",
      "1\n"
     ]
    }
   ],
   "source": [
    "a=input(\"Enter the string \")\n",
    "print(a.lower())\n",
    "print(a.upper())\n",
    "print(a.split())\n",
    "print(a.lstrip())\n",
    "print(a.rstrip())\n",
    "for i in a:\n",
    "    print(i.isalpha())\n",
    "    print(i.isdigit())\n",
    "    print(i.isalnum())\n",
    "    print(i.isupper())\n",
    "    print(i.islower())\n",
    "    print(i.isspace())\n",
    "    print(i.isdecimal())\n",
    "    print(a.count(i))\n",
    "    print(a.find(i))\n",
    "    print(a.index(i))\n"
   ]
  },
  {
   "cell_type": "markdown",
   "metadata": {},
   "source": [
    "Q3-Write a Python program to check if the given string is a Palindrome or Anagram or None of them. Display\n",
    "the message accordingly to the user."
   ]
  },
  {
   "cell_type": "code",
   "execution_count": 3,
   "metadata": {},
   "outputs": [
    {
     "name": "stdout",
     "output_type": "stream",
     "text": [
      "Enter 1st the string python\n",
      "Enter 2nd string for Anagram testtyphon\n",
      "Strings python and typhon are Anagram\n"
     ]
    }
   ],
   "source": [
    "a=input(\"Enter 1st the string \")\n",
    "b=input(\"Enter 2nd string for Anagram test\")\n",
    "if sorted(a)==sorted(b):\n",
    "    print(\"Strings \"+a+\" and \"+b+\" are Anagram\")\n",
    "elif a==a[::-1]:\n",
    "    print(a+\" is a palindrome\")\n",
    "else:\n",
    "    print(\"None of them is palindrome or anagram\")"
   ]
  },
  {
   "cell_type": "markdown",
   "metadata": {},
   "source": [
    "Q4-Write a Python's user-defined function that removes all the additional characters from the string and\n",
    "convert it finally to lower case using built-in lower(). eg: If the string is \"Dr. Darshan Ingle @AIML Trainer\",\n",
    "then the output be \"drdarshaningleaimltrainer\"."
   ]
  },
  {
   "cell_type": "code",
   "execution_count": 4,
   "metadata": {},
   "outputs": [],
   "source": [
    "def prateek(X):\n",
    "    d=''\n",
    "    for i in range(len(X)):\n",
    "        if X[i].isalpha():\n",
    "            d=d+X[i]\n",
    "        else:\n",
    "            continue\n",
    "    print(d.lower())    "
   ]
  },
  {
   "cell_type": "code",
   "execution_count": 5,
   "metadata": {},
   "outputs": [
    {
     "name": "stdout",
     "output_type": "stream",
     "text": [
      "drdarshaningleaimltrainer\n"
     ]
    }
   ],
   "source": [
    "prateek('Dr. Darshan Ingle @AIML Trainer')"
   ]
  }
 ],
 "metadata": {
  "kernelspec": {
   "display_name": "Python 3",
   "language": "python",
   "name": "python3"
  },
  "language_info": {
   "codemirror_mode": {
    "name": "ipython",
    "version": 3
   },
   "file_extension": ".py",
   "mimetype": "text/x-python",
   "name": "python",
   "nbconvert_exporter": "python",
   "pygments_lexer": "ipython3",
   "version": "3.7.1"
  }
 },
 "nbformat": 4,
 "nbformat_minor": 2
}
